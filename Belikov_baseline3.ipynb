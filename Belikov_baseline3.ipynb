{
 "cells": [
  {
   "cell_type": "markdown",
   "id": "a44a0fe5-2a11-4bbf-91a0-b4bbdefbe9a4",
   "metadata": {},
   "source": [
    "# Baseline для  классификации видов животных по фотографии\n",
    "\n",
    "Перед вами базовое решение, позволяющие обучить модель машинного обучения тому, какое животное находится на фотографии, а так же сформировать сабмит (посылку с решением) с результатами работы модели, чтобы можно было понять, насколько хорошо работает ваша модель.\n",
    "\n",
    "Код ниже состоит из четырёх основных частей:\n",
    "1. Установка и импорт библиотек, требуемых для работы\n",
    "2. Подготовка данных для обучения модели ResNet18\n",
    "3. Обучение базовой модели\n",
    "5. Запуск модели и формирование сабмита.\n"
   ]
  },
  {
   "cell_type": "markdown",
   "id": "5f7d7b9a-cab3-4786-98ab-1a81d67da689",
   "metadata": {},
   "source": [
    "## Установка и импорт библиотек\n",
    "\n",
    "Прежде, чем приступать к дальнейшим шагам установите [Python](https://www.python.org/downloads/) на компьютер, с которым работаете. Решение проверялось на Python 3.9, но никто не запрещает использовать более новые версии. \n",
    "\n",
    "Совсем хорошо, если установите отдельное окружение c Python, используя, например [Miniconda](https://docs.anaconda.com/miniconda/) и [jupyter notebook](https://jupyter.org/install).  \n",
    "После этого можно исполнять команды и код ниже.\n",
    "\n",
    "Для обучения моделей нам понадобится Pytorch - фреймворк для машинного обучения.  \n",
    "[Установите его для вашей платформы](https://pytorch.org/get-started/locally/), проверьте, что установлена версия с поддержкой GPU (видеокарт) с помощью кода ниже:"
   ]
  },
  {
   "cell_type": "code",
   "execution_count": 1,
   "id": "f9b4800c-15dd-497c-a7df-87e912971457",
   "metadata": {},
   "outputs": [
    {
     "name": "stdout",
     "output_type": "stream",
     "text": [
      "Что-то не так, стоит torch с поддержкой только CPU. Если у вас MacOS или так и задумано, то все нормально.\n"
     ]
    }
   ],
   "source": [
    "import torch\n",
    "\n",
    "if torch.cuda.is_available():\n",
    "    print(\"Все хорошо, установлена версия с поддержкой видеокарт\")\n",
    "else:\n",
    "    print(\"Что-то не так, стоит torch с поддержкой только CPU. Если у вас MacOS или так и задумано, то все нормально.\")"
   ]
  },
  {
   "cell_type": "code",
   "execution_count": 2,
   "id": "initial_id",
   "metadata": {
    "ExecuteTime": {
     "end_time": "2024-08-20T07:41:27.056590Z",
     "start_time": "2024-08-20T07:41:27.027535Z"
    }
   },
   "outputs": [],
   "source": [
    "import random\n",
    "from pathlib import Path\n",
    "\n",
    "import matplotlib.pyplot as plt\n",
    "import numpy as np\n",
    "import pandas as pd\n",
    "import torch\n",
    "import torch.optim as optim\n",
    "import torchvision\n",
    "import torchvision.transforms as tt\n",
    "\n",
    "from PIL import Image\n",
    "from sklearn.metrics import f1_score\n",
    "from sklearn.model_selection import train_test_split\n",
    "from torch import nn\n",
    "# import torch.nn as nn\n",
    "from torch.utils.data import DataLoader, Dataset\n",
    "from torchvision.models import ResNet18_Weights\n",
    "# from tqdm.notebook import tqdm\n",
    "from tqdm import tqdm # для работы виджета (прогрессбар)\n",
    "\n",
    "\n",
    "# Зафиксируем сиды, чтобы обучение было воспроизводимым.\n",
    "def set_seed(seed):\n",
    "    random.seed(seed)\n",
    "    np.random.seed(seed)\n",
    "    torch.manual_seed(seed)\n",
    "    \n",
    "    if torch.cuda.is_available():\n",
    "        torch.cuda.manual_seed(seed)\n",
    "        torch.cuda.manual_seed_all(seed)\n",
    "    \n",
    "    torch.backends.cudnn.deterministic = True\n",
    "    torch.backends.cudnn.benchmark = False\n",
    "\n",
    "set_seed(1001)"
   ]
  },
  {
   "cell_type": "markdown",
   "id": "3a0797fa-0bdb-49bf-82c3-022a439bd9dc",
   "metadata": {},
   "source": [
    "## Подготовка данных для обучения"
   ]
  },
  {
   "cell_type": "code",
   "execution_count": 3,
   "id": "b634b25aa5f8bc69",
   "metadata": {
    "ExecuteTime": {
     "end_time": "2024-08-20T07:41:31.571367Z",
     "start_time": "2024-08-20T07:41:31.491110Z"
    }
   },
   "outputs": [
    {
     "name": "stdout",
     "output_type": "stream",
     "text": [
      "(19610, 3) (8405, 3)\n"
     ]
    }
   ],
   "source": [
    "# Мы подразумеваем, что данные будут лежать в рамках следующей структуры:\n",
    "# .\n",
    "# ├── baseline.ipynb\n",
    "# └── data/\n",
    "#     ├── train.csv\n",
    "#     ├── train/\n",
    "#     │   ├── ***.JPG\n",
    "#     │   ├── ...\n",
    "#     │   └── ***.JPG\n",
    "#     └── test/\n",
    "#         ├── ***.JPG\n",
    "#         ├── ...\n",
    "#         └── ***.JPG\n",
    "\n",
    "\n",
    "base_path = Path(\"data/\")\n",
    "data = pd.read_csv(base_path / \"train.csv\")\n",
    "images_path = base_path / \"train\"\n",
    "\n",
    "# Разобъем данные на тренировочную и отложенную (на которой мы будем проверять качество работы) части\n",
    "train, val = train_test_split(data, test_size=0.3, random_state=1)\n",
    "\n",
    "train = train.reset_index(drop=True)\n",
    "val = val.reset_index(drop=True)\n",
    "\n",
    "# Получилось примерно 19.6к картинок для тренировки и 8.4к картинок для подсчета метрик\n",
    "print(train.shape, val.shape)"
   ]
  },
  {
   "cell_type": "code",
   "execution_count": 4,
   "id": "4e6c5bffe284a2a6",
   "metadata": {
    "ExecuteTime": {
     "end_time": "2024-08-20T07:41:33.448007Z",
     "start_time": "2024-08-20T07:41:33.435571Z"
    }
   },
   "outputs": [
    {
     "data": {
      "text/html": [
       "<div>\n",
       "<style scoped>\n",
       "    .dataframe tbody tr th:only-of-type {\n",
       "        vertical-align: middle;\n",
       "    }\n",
       "\n",
       "    .dataframe tbody tr th {\n",
       "        vertical-align: top;\n",
       "    }\n",
       "\n",
       "    .dataframe thead th {\n",
       "        text-align: right;\n",
       "    }\n",
       "</style>\n",
       "<table border=\"1\" class=\"dataframe\">\n",
       "  <thead>\n",
       "    <tr style=\"text-align: right;\">\n",
       "      <th></th>\n",
       "      <th>unified_class</th>\n",
       "      <th>class_id</th>\n",
       "      <th>image_name</th>\n",
       "    </tr>\n",
       "  </thead>\n",
       "  <tbody>\n",
       "    <tr>\n",
       "      <th>0</th>\n",
       "      <td>Оленевые</td>\n",
       "      <td>5</td>\n",
       "      <td>3cf4207b958eade893a2f1618cf062b8.JPG</td>\n",
       "    </tr>\n",
       "    <tr>\n",
       "      <th>1</th>\n",
       "      <td>Кошки</td>\n",
       "      <td>2</td>\n",
       "      <td>37698901280c871f426d40afe5c373cd.JPG</td>\n",
       "    </tr>\n",
       "    <tr>\n",
       "      <th>2</th>\n",
       "      <td>Заяц</td>\n",
       "      <td>0</td>\n",
       "      <td>20e7b30026001cbfe0b5c0ee16c9ff56.JPG</td>\n",
       "    </tr>\n",
       "    <tr>\n",
       "      <th>3</th>\n",
       "      <td>Кошки</td>\n",
       "      <td>2</td>\n",
       "      <td>a1bc8ea546206ee8fc0f1836fda9a5c1.JPG</td>\n",
       "    </tr>\n",
       "    <tr>\n",
       "      <th>4</th>\n",
       "      <td>Оленевые</td>\n",
       "      <td>5</td>\n",
       "      <td>54eb76914b84db8a0d56f98125abf588.JPG</td>\n",
       "    </tr>\n",
       "  </tbody>\n",
       "</table>\n",
       "</div>"
      ],
      "text/plain": [
       "  unified_class  class_id                            image_name\n",
       "0      Оленевые         5  3cf4207b958eade893a2f1618cf062b8.JPG\n",
       "1         Кошки         2  37698901280c871f426d40afe5c373cd.JPG\n",
       "2          Заяц         0  20e7b30026001cbfe0b5c0ee16c9ff56.JPG\n",
       "3         Кошки         2  a1bc8ea546206ee8fc0f1836fda9a5c1.JPG\n",
       "4      Оленевые         5  54eb76914b84db8a0d56f98125abf588.JPG"
      ]
     },
     "execution_count": 4,
     "metadata": {},
     "output_type": "execute_result"
    }
   ],
   "source": [
    "# Что значат колонки:\n",
    "# unified_class - имя класса кириллицей\n",
    "# class_id - численный идентификатор класса для удобства работы\n",
    "# image_name - название файла изобаржения в папке train.\n",
    "\n",
    "data.head()"
   ]
  },
  {
   "cell_type": "markdown",
   "id": "52a9bafc-8764-4291-927e-b2e9f676364f",
   "metadata": {},
   "source": [
    "## Инициализация нужных объектов и обучение базовой модели"
   ]
  },
  {
   "cell_type": "code",
   "execution_count": 5,
   "id": "2d1163ee108d69bb",
   "metadata": {
    "ExecuteTime": {
     "end_time": "2024-08-20T07:42:02.341717Z",
     "start_time": "2024-08-20T07:42:02.336393Z"
    }
   },
   "outputs": [],
   "source": [
    "# В качестве стартовой модели возьмем ResNet18, предобученный на датасете ImageNet1K\n",
    "# Но поменяем количество предсказываемых классов, так как вместо тысячи у нас десять классов.\n",
    "# Можно было бы взять модель побольше и получить результаты лучше, но сейчас ограничимся ResNet18\n",
    "\n",
    "class ResNet18(nn.Module):\n",
    "    def __init__(self, num_classes: int):\n",
    "        super().__init__()\n",
    "        # Инициализируем модель\n",
    "        self.model = torchvision.models.resnet18(weights=ResNet18_Weights.IMAGENET1K_V1)\n",
    "        # Подменим классмификационный слой на наш собственный\n",
    "        self.model.fc = torch.nn.Linear(self.model.fc.in_features, num_classes)\n",
    "\n",
    "    def forward(self, batch):\n",
    "        inputs, _ = batch\n",
    "        return self.model(inputs)"
   ]
  },
  {
   "cell_type": "code",
   "execution_count": 6,
   "id": "d65ddc54c3dd65b1",
   "metadata": {
    "ExecuteTime": {
     "end_time": "2024-08-20T07:42:08.720594Z",
     "start_time": "2024-08-20T07:42:08.716857Z"
    }
   },
   "outputs": [],
   "source": [
    "# Теперь подготовим класс датасет, в котором укажем насколько он большой (метод __len__) и\n",
    "# как нам получить один элемент датасета (пару картинка - класс, которому эта картинка соответствует)\n",
    "\n",
    "# Обращу внимание на transforms (они же аугментации) - способ, позволящий искусственно расширить датасет\n",
    "# за счет того, что мы, обращаясь к датасету, каждый раз немного изменяем изображение разными способами (делаем из цветного черно-белое,\n",
    "# вырезаем часть изображения, поворачиваем вокруг оси и т.д.). Часто это позволяет обучить модель более высокого качества, а так же сделать её\n",
    "# устойчивее к непривычным ей данным\n",
    "\n",
    "class AnimalsDataset(Dataset):\n",
    "    def __init__(self, dataframe: pd.DataFrame, path_to_images: Path, transforms: tt.Compose) -> None:\n",
    "        self.df = dataframe\n",
    "        self.path_to_images = path_to_images\n",
    "        self.transforms = transforms\n",
    "        \n",
    "    def __len__(self):\n",
    "        return len(self.df)\n",
    "    \n",
    "    def __getitem__(self, idx):\n",
    "        row = self.df.iloc[idx]\n",
    "        image = Image.open(self.path_to_images / row[\"image_name\"]).convert('RGB')\n",
    "        if self.transforms is not None:\n",
    "            image = self.transforms(image)\n",
    "        return image, row[\"class_id\"]"
   ]
  },
  {
   "cell_type": "code",
   "execution_count": 7,
   "id": "ad37cd1139ecf631",
   "metadata": {
    "ExecuteTime": {
     "end_time": "2024-08-20T07:42:12.264636Z",
     "start_time": "2024-08-20T07:42:12.245751Z"
    }
   },
   "outputs": [],
   "source": [
    "# Инициализируем агументации. В нашем примере я не использую ничего, кроме изменения разрешения изображения в квадрат 224 на 224 пикселя\n",
    "# и нормализации (перевода пикселей от диапазона 0-255 к распределению с заданными средним и дисперсией).\n",
    "\n",
    "train_transform = tt.Compose([\n",
    "    tt.Resize((224, 224)),\n",
    "    tt.ToTensor(),\n",
    "    tt.Normalize(mean=[0.485, 0.456, 0.406], std=[0.229, 0.224, 0.225]),\n",
    "])\n",
    "\n",
    "val_transform = tt.Compose([\n",
    "    tt.Resize((224, 224)),\n",
    "    tt.ToTensor(),\n",
    "    tt.Normalize(mean=[0.485, 0.456, 0.406], std=[0.229, 0.224, 0.225]),\n",
    "])\n",
    "\n",
    "train_dataset = AnimalsDataset(train, images_path, transforms=train_transform)\n",
    "val_dataset = AnimalsDataset(val, images_path, transforms=val_transform)\n",
    "\n",
    "\n",
    "# Обратите внимание на \n",
    "# num_workers - во сколько отдельных потоков мы будем готовить данные (вызывать AnimalsDataset),можете поставить своё значение, посмотрев количество ядер на вашем компьютере\n",
    "# batch_size - сколько картинок одновременно мы подадим на вход нашей модели.\n",
    "train_dataloader = DataLoader(train_dataset, batch_size=64, num_workers=0, shuffle=True)\n",
    "valid_dataloader = DataLoader(val_dataset, batch_size=64, num_workers=0, shuffle=False)"
   ]
  },
  {
   "cell_type": "code",
   "execution_count": 8,
   "id": "bb51b4a6aeaf2a5f",
   "metadata": {
    "ExecuteTime": {
     "start_time": "2024-08-20T07:42:42.256049Z"
    },
    "jupyter": {
     "is_executing": true
    }
   },
   "outputs": [
    {
     "name": "stdout",
     "output_type": "stream",
     "text": [
      "Для обучения выбран девайс cpu\n"
     ]
    },
    {
     "name": "stderr",
     "output_type": "stream",
     "text": [
      "100%|████████████████████████████████████████████████████████████████████████████████| 307/307 [15:34<00:00,  3.04s/it]\n",
      "100%|████████████████████████████████████████████████████████████████████████████████| 132/132 [03:08<00:00,  1.43s/it]\n"
     ]
    },
    {
     "name": "stdout",
     "output_type": "stream",
     "text": [
      "New best model saved with F1: 0.7002\n",
      "Epoch [1/8], Train Loss: 0.5506, Train F1: 0.7306, Val Loss: 0.7271, Val F1: 0.7002\n"
     ]
    },
    {
     "name": "stderr",
     "output_type": "stream",
     "text": [
      "100%|████████████████████████████████████████████████████████████████████████████████| 307/307 [15:09<00:00,  2.96s/it]\n",
      "100%|████████████████████████████████████████████████████████████████████████████████| 132/132 [02:47<00:00,  1.27s/it]\n"
     ]
    },
    {
     "name": "stdout",
     "output_type": "stream",
     "text": [
      "New best model saved with F1: 0.7927\n",
      "Epoch [2/8], Train Loss: 0.3013, Train F1: 0.8490, Val Loss: 0.4735, Val F1: 0.7927\n"
     ]
    },
    {
     "name": "stderr",
     "output_type": "stream",
     "text": [
      "100%|████████████████████████████████████████████████████████████████████████████████| 307/307 [19:18<00:00,  3.77s/it]\n",
      "100%|████████████████████████████████████████████████████████████████████████████████| 132/132 [02:54<00:00,  1.32s/it]\n"
     ]
    },
    {
     "name": "stdout",
     "output_type": "stream",
     "text": [
      "New best model saved with F1: 0.8334\n",
      "Epoch [3/8], Train Loss: 0.2105, Train F1: 0.8929, Val Loss: 0.3820, Val F1: 0.8334\n"
     ]
    },
    {
     "name": "stderr",
     "output_type": "stream",
     "text": [
      "100%|████████████████████████████████████████████████████████████████████████████████| 307/307 [15:45<00:00,  3.08s/it]\n",
      "100%|████████████████████████████████████████████████████████████████████████████████| 132/132 [02:50<00:00,  1.29s/it]\n"
     ]
    },
    {
     "name": "stdout",
     "output_type": "stream",
     "text": [
      "New best model saved with F1: 0.8398\n",
      "Epoch [4/8], Train Loss: 0.1505, Train F1: 0.9246, Val Loss: 0.3284, Val F1: 0.8398\n"
     ]
    },
    {
     "name": "stderr",
     "output_type": "stream",
     "text": [
      "100%|████████████████████████████████████████████████████████████████████████████████| 307/307 [15:35<00:00,  3.05s/it]\n",
      "100%|████████████████████████████████████████████████████████████████████████████████| 132/132 [02:43<00:00,  1.24s/it]\n"
     ]
    },
    {
     "name": "stdout",
     "output_type": "stream",
     "text": [
      "New best model saved with F1: 0.8509\n",
      "Epoch [5/8], Train Loss: 0.1208, Train F1: 0.9426, Val Loss: 0.3160, Val F1: 0.8509\n"
     ]
    },
    {
     "name": "stderr",
     "output_type": "stream",
     "text": [
      "100%|████████████████████████████████████████████████████████████████████████████████| 307/307 [15:29<00:00,  3.03s/it]\n",
      "100%|████████████████████████████████████████████████████████████████████████████████| 132/132 [02:46<00:00,  1.26s/it]\n"
     ]
    },
    {
     "name": "stdout",
     "output_type": "stream",
     "text": [
      "New best model saved with F1: 0.8714\n",
      "Epoch [6/8], Train Loss: 0.0989, Train F1: 0.9511, Val Loss: 0.3282, Val F1: 0.8714\n"
     ]
    },
    {
     "name": "stderr",
     "output_type": "stream",
     "text": [
      "100%|████████████████████████████████████████████████████████████████████████████████| 307/307 [16:15<00:00,  3.18s/it]\n",
      "100%|████████████████████████████████████████████████████████████████████████████████| 132/132 [02:50<00:00,  1.29s/it]\n"
     ]
    },
    {
     "name": "stdout",
     "output_type": "stream",
     "text": [
      "New best model saved with F1: 0.8820\n",
      "Epoch [7/8], Train Loss: 0.0676, Train F1: 0.9690, Val Loss: 0.2949, Val F1: 0.8820\n"
     ]
    },
    {
     "name": "stderr",
     "output_type": "stream",
     "text": [
      "100%|████████████████████████████████████████████████████████████████████████████████| 307/307 [14:41<00:00,  2.87s/it]\n",
      "100%|████████████████████████████████████████████████████████████████████████████████| 132/132 [02:27<00:00,  1.12s/it]"
     ]
    },
    {
     "name": "stdout",
     "output_type": "stream",
     "text": [
      "Epoch [8/8], Train Loss: 0.0688, Train F1: 0.9661, Val Loss: 0.4181, Val F1: 0.8562\n"
     ]
    },
    {
     "name": "stderr",
     "output_type": "stream",
     "text": [
      "\n"
     ]
    }
   ],
   "source": [
    "# Напишем код для обучения нашей нейронной сети:\n",
    "\n",
    "device = torch.device(\"cuda\" if torch.cuda.is_available() else \"cpu\")\n",
    "print(\"Для обучения выбран девайс {}\".format(device))\n",
    "\n",
    "model = ResNet18(num_classes=data[\"unified_class\"].nunique()).to(device)\n",
    "\n",
    "# Инициализируем функцию потерь (loss/criterion), а так же оптимизатор, который будет регулировать обновление весов нашей модели\n",
    "optimizer = optim.Adam(model.parameters(), lr=0.001)\n",
    "criterion = nn.CrossEntropyLoss()\n",
    "\n",
    "# Переменные для визуализации метрик и функции потерь\n",
    "train_losses = []\n",
    "val_losses = []\n",
    "# Для удобства оценивать качество модели будем той же метрику, что на лидерборде - F1 score\n",
    "train_f1_scores = []\n",
    "val_f1_scores = []\n",
    "\n",
    "best_val_f1 = 0.0\n",
    "best_model_path = 'best_model.pth'\n",
    "\n",
    "# Определим, сколько раз мы пройдёмся по всему датасету, прежде, чем закончим обучение модели и выберем лучшую версию\n",
    "num_epochs = 8\n",
    "\n",
    "# Напишем свой train_loop\n",
    "for epoch in range(num_epochs):\n",
    "    model.train()\n",
    "    running_loss = 0.0\n",
    "    train_true = []\n",
    "    train_pred = []\n",
    "    \n",
    "    for batch in tqdm(train_dataloader):\n",
    "        inputs, labels = batch\n",
    "        inputs, labels = inputs.to(device), labels.to(device)\n",
    "        \n",
    "        optimizer.zero_grad()\n",
    "        \n",
    "        outputs = model((inputs, labels))\n",
    "        loss = criterion(outputs, labels)\n",
    "        loss.backward()\n",
    "        optimizer.step()\n",
    "        \n",
    "        running_loss += loss.item()\n",
    "        \n",
    "        preds = torch.argmax(outputs, dim=1)\n",
    "        train_true.extend(labels.cpu().numpy())\n",
    "        train_pred.extend(preds.cpu().numpy())\n",
    "    \n",
    "    train_f1 = f1_score(train_true, train_pred, average='macro')\n",
    "    train_losses.append(running_loss / len(train_dataloader))\n",
    "    train_f1_scores.append(train_f1)\n",
    "    \n",
    "    model.eval()\n",
    "    val_running_loss = 0.0\n",
    "    val_true = []\n",
    "    val_pred = []\n",
    "    \n",
    "    # валидационный цикл, когда мы оцениваем качество работы модели на отложенной выборке\n",
    "    with torch.no_grad():\n",
    "        for batch in tqdm(valid_dataloader):\n",
    "            inputs, labels = batch\n",
    "            inputs, labels = inputs.to(device), labels.to(device)\n",
    "            \n",
    "            outputs = model((inputs, labels))\n",
    "            loss = criterion(outputs, labels)\n",
    "            \n",
    "            val_running_loss += loss.item()\n",
    "            \n",
    "            preds = torch.argmax(outputs, dim=1)\n",
    "            val_true.extend(labels.cpu().numpy())\n",
    "            val_pred.extend(preds.cpu().numpy())\n",
    "    \n",
    "    val_f1 = f1_score(val_true, val_pred, average='macro')\n",
    "    val_losses.append(val_running_loss / len(valid_dataloader))\n",
    "    val_f1_scores.append(val_f1)\n",
    "\n",
    "    # если получившаяся модель лучше предыдущей, сохраним чекпоинт\n",
    "    if val_f1 > best_val_f1:\n",
    "        best_val_f1 = val_f1\n",
    "        torch.save(model.state_dict(), best_model_path)\n",
    "        print(f'New best model saved with F1: {best_val_f1:.4f}')\n",
    "\n",
    "    \n",
    "    # выведем в консоль получившиеся результаты на отдельной эпохе\n",
    "    print(f'Epoch [{epoch+1}/{num_epochs}], '\n",
    "          f'Train Loss: {train_losses[-1]:.4f}, Train F1: {train_f1:.4f}, '\n",
    "          f'Val Loss: {val_losses[-1]:.4f}, Val F1: {val_f1:.4f}')\n"
   ]
  },
  {
   "cell_type": "markdown",
   "id": "75e68da1-4871-4225-8181-080c5575b62d",
   "metadata": {},
   "source": [
    "batch = 64\n",
    "\n",
    "Для обучения выбран девайс cpu\n",
    "100%|████████████████████████████████████████████████████████████████████████████████| 307/307 [16:18<00:00,  3.19s/it]\n",
    "100%|████████████████████████████████████████████████████████████████████████████████| 132/132 [02:53<00:00,  1.32s/it]\n",
    "New best model saved with F1: 0.7002\n",
    "Epoch [1/3], Train Loss: 0.5506, Train F1: 0.7306, Val Loss: 0.7271, Val F1: 0.7002\n",
    "100%|████████████████████████████████████████████████████████████████████████████████| 307/307 [16:48<00:00,  3.28s/it]\n",
    "100%|████████████████████████████████████████████████████████████████████████████████| 132/132 [02:55<00:00,  1.33s/it]\n",
    "New best model saved with F1: 0.7927\n",
    "Epoch [2/3], Train Loss: 0.3013, Train F1: 0.8490, Val Loss: 0.4735, Val F1: 0.7927\n",
    "100%|████████████████████████████████████████████████████████████████████████████████| 307/307 [16:23<00:00,  3.20s/it]\n",
    "100%|████████████████████████████████████████████████████████████████████████████████| 132/132 [02:47<00:00,  1.27s/it]\n",
    "New best model saved with F1: 0.8334\n",
    "Epoch [3/3], Train Loss: 0.2105, Train F1: 0.8929, Val Loss: 0.3820, Val F1: 0.8334\n"
   ]
  },
  {
   "cell_type": "markdown",
   "id": "256332c3-3b2b-48dc-812e-467021fe10ce",
   "metadata": {},
   "source": [
    "batch = 32\n",
    "Для обучения выбран девайс cpu\r\n",
    "Error displaying widget\r\n",
    "Error displaying widget\r\n",
    "New best model saved with F1: 0.7446\r\n",
    "Epoch [1/10], Train Loss: 0.6792, Train F1: 0.6804, Val Loss: 0.4991, Val F1: 0.7446\r\n",
    "Error displaying widget\r\n",
    "Error displaying widget\r\n",
    "New best model saved with F1: 0.8173\r\n",
    "Epoch [2/10], Train Loss: 0.3828, Train F1: 0.8135, Val Loss: 0.3964, Val F1: 0.8173\r\n",
    "Error displaying widget\r\n",
    "Error displaying widget\r\n",
    "Epoch [3/10], Train Loss: 0.2795, Train F1: 0.8653, Val Loss: 0.4935, Val F1: 0.8060\r\n",
    "Error displaying widget\r\n",
    "Error displaying widget\r\n",
    "New best model saved with F1: 0.8564\r\n",
    "Epoch [4/10], Train Loss: 0.2186, Train F1: 0.8934, Val Loss: 0.2968, Val F1: 0.8564\r\n",
    "Error displaying widget\r\n",
    "Error displaying widget\r\n",
    "Epoch [5/10], Train Loss: 0.1778, Train F1: 0.9123, Val Loss: 0.3966, Val F1: 0.8352\r\n",
    "Error displaying widget\r\n",
    "Error displaying widget\r\n",
    "Epoch [6/10], Train Loss: 0.1353, Train F1: 0.9344, Val Loss: 0.3701, Val F1: 0.8378\r\n",
    "Error displaying widget\r\n",
    "Error displaying widget\r\n",
    "Epoch [7/10], Train Loss: 0.1231, Train F1: 0.9441, Val Loss: 0.3658, Val F1: 0.8495\r\n",
    "Error displaying widget\r\n",
    "Error displaying widget\r\n",
    "New best model saved with F1: 0.8574\r\n",
    "Epoch [8/10], Train Loss: 0.1011, Train F1: 0.9523, Val Loss: 0.3286, Val F1: 0.8574\r\n",
    "Error displaying widget\r\n",
    "Error displaying widget\r\n",
    "Epoch [9/10], Train Loss: 0.0774, Train F1: 0.9647, Val Loss: 0.3795, Val F1: 0.8497\r\n",
    "Error displaying widget\r\n",
    "Error displaying widget\r\n",
    "Epoch [10/10], Train Loss: 0.0782, Train F1: 0.9635, Val Loss: 0.3973, Val F1: 0.8505"
   ]
  },
  {
   "cell_type": "code",
   "execution_count": 9,
   "id": "928bb55f2e2cc00f",
   "metadata": {
    "ExecuteTime": {
     "end_time": "2024-08-13T14:14:39.440609Z",
     "start_time": "2024-08-13T14:14:39.440485Z"
    }
   },
   "outputs": [
    {
     "data": {
      "image/png": "[encoded data removed]",
      "text/plain": [
       "<Figure size 1400x500 with 2 Axes>"
      ]
     },
     "metadata": {},
     "output_type": "display_data"
    }
   ],
   "source": [
    "# После эксперимента важно оценить полученные кривые обучения, чтобы сформировать новые гипотезы\n",
    "# Визуализируем их!\n",
    "\n",
    "plt.figure(figsize=(14, 5))\n",
    "\n",
    "plt.subplot(1, 2, 1)\n",
    "plt.plot(train_losses, label='Train Loss')\n",
    "plt.plot(val_losses, label='Validation Loss')\n",
    "plt.title('Loss')\n",
    "plt.xlabel('Epoch')\n",
    "plt.ylabel('Loss')\n",
    "plt.legend()\n",
    "\n",
    "plt.subplot(1, 2, 2)\n",
    "plt.plot(train_f1_scores, label='Train F1')\n",
    "plt.plot(val_f1_scores, label='Validation F1')\n",
    "plt.title('F1 Score')\n",
    "plt.xlabel('Epoch')\n",
    "plt.ylabel('F1 Score')\n",
    "plt.legend()\n",
    "\n",
    "plt.show()"
   ]
  },
  {
   "cell_type": "markdown",
   "id": "eb0399f9-4617-4d08-9b81-53c7c8fca64c",
   "metadata": {},
   "source": [
    "## Инференс модели и формирование сабмита"
   ]
  },
  {
   "cell_type": "code",
   "execution_count": 10,
   "id": "eda82f277c5b1b59",
   "metadata": {
    "ExecuteTime": {
     "end_time": "2024-08-13T13:58:20.350343Z",
     "start_time": "2024-08-13T13:57:48.728662Z"
    }
   },
   "outputs": [
    {
     "name": "stderr",
     "output_type": "stream",
     "text": [
      "100%|████████████████████████████████████████████████████████████████████████████████| 203/203 [04:59<00:00,  1.48s/it]"
     ]
    },
    {
     "name": "stdout",
     "output_type": "stream",
     "text": [
      "                             image_name  predicted_class\n",
      "0  000028438ed4f212bfcf4f1c3b4b1aab.JPG                4\n",
      "1  000a1c0c43779808370c3f7346c4758f.JPG                6\n",
      "2  000a25d7a14f15f2bb6349640653cdbc.JPG                6\n",
      "3  000eb8747b0cd8f848c2f98048b5445d.JPG                2\n",
      "4  0010bd149e23b169ffc16e5627ece2bf.JPG                7\n"
     ]
    },
    {
     "name": "stderr",
     "output_type": "stream",
     "text": [
      "\n"
     ]
    }
   ],
   "source": [
    "# У нас есть обученная модель! Теперь сделаем инференс модели на тестовых данных и подготовим файл сабмита!\n",
    "\n",
    "# Немного перепишем наш датасет, ведь для тестовой части у нас нет меток классов, но нам нужны имена файлов для сабмита\n",
    "class InferenceDataset(Dataset):\n",
    "    def __init__(self, image_paths, transforms=None):\n",
    "        self.image_paths = image_paths\n",
    "        self.transforms = transforms\n",
    "    \n",
    "    def __len__(self):\n",
    "        return len(self.image_paths)\n",
    "    \n",
    "    def __getitem__(self, idx):\n",
    "        image_path = self.image_paths[idx]\n",
    "        image = Image.open(image_path).convert('RGB')\n",
    "        if self.transforms is not None:\n",
    "            image = self.transforms(image)\n",
    "        return image, image_path.name\n",
    "\n",
    "\n",
    "# Тут важно не ошибиться и не использовать тренировочные трансформы\n",
    "infer_transform = tt.Compose([\n",
    "    tt.Resize((224, 224)),\n",
    "    tt.ToTensor(),\n",
    "    tt.Normalize(mean=[0.485, 0.456, 0.406], std=[0.229, 0.224, 0.225]),\n",
    "])\n",
    "\n",
    "# Найдем все тестовые картинки\n",
    "test_image_paths = base_path / \"test\"\n",
    "test_image_paths = list(test_image_paths.glob(\"*.JPG\"))\n",
    "\n",
    "infer_dataset = InferenceDataset(test_image_paths, transforms=infer_transform)\n",
    "infer_dataloader = DataLoader(infer_dataset, batch_size=64, shuffle=False)\n",
    "\n",
    "# Инициализируем нашу модель и загрузим в неё лучшие после эксперимента веса \n",
    "model = ResNet18(num_classes=data[\"unified_class\"].nunique()).to(device)\n",
    "\n",
    "model.load_state_dict(torch.load(best_model_path, weights_only=True))\n",
    "# model.load_state_dict(torch.load(best_model_path))\n",
    "# Не забудем перевести модель в режим предсказания, а не обучения.\n",
    "model.eval()\n",
    "\n",
    "# Для ускорения инференса будем подавать в модель картинки батчами (по несколько картинок за раз) и сохраним предсказанные метки классов.\n",
    "results = []\n",
    "for images, image_names in tqdm(infer_dataloader):\n",
    "    images = images.to(device)\n",
    "    \n",
    "    with torch.no_grad():\n",
    "        outputs = model((images, None))\n",
    "        preds = torch.argmax(outputs, dim=1).cpu().numpy()\n",
    "    \n",
    "    for image_name, pred_class in zip(image_names, preds):\n",
    "        results.append({\"image_name\": image_name, \"predicted_class\": pred_class})\n",
    "\n",
    "\n",
    "\n",
    "# Для удобства объединим все пары \"имя файла - предсказанный класс\" в датафрейм (таблицу) с колонками image_name, predicted_class\n",
    "df_results = pd.DataFrame(results)\n",
    "\n",
    "# Вывод DataFrame\n",
    "print(df_results.head())"
   ]
  },
  {
   "cell_type": "code",
   "execution_count": 15,
   "id": "f42c5bb8a6833ae7",
   "metadata": {
    "ExecuteTime": {
     "end_time": "2024-08-13T13:41:48.262899Z",
     "start_time": "2024-08-13T13:41:48.261292Z"
    }
   },
   "outputs": [],
   "source": [
    "# Сохраним результат предсказаний в файл и всё! Можно отправлять!\n",
    "df_results.to_csv(\"submission.csv\", index=False)"
   ]
  },
  {
   "cell_type": "code",
   "execution_count": null,
   "id": "a9490952-bb48-41c7-a674-fed8bf1d0ed7",
   "metadata": {},
   "outputs": [],
   "source": []
  }
 ],
 "metadata": {
  "kernelspec": {
   "display_name": "Python 3 (ipykernel)",
   "language": "python",
   "name": "python3"
  },
  "language_info": {
   "codemirror_mode": {
    "name": "ipython",
    "version": 3
   },
   "file_extension": ".py",
   "mimetype": "text/x-python",
   "name": "python",
   "nbconvert_exporter": "python",
   "pygments_lexer": "ipython3",
   "version": "3.12.4"
  }
 },
 "nbformat": 4,
 "nbformat_minor": 5
}
